{
 "cells": [
  {
   "cell_type": "markdown",
   "metadata": {},
   "source": [
    "Samantha Ramsey\n",
    "<br>September 22, 2019\n",
    "<br>ME 391 HW #2\n",
    "\n",
    "#### Problem 1:\n",
    "For the linear system given below, determine the solution using Gauss-Jordan elimination.\n",
    "<br><br>$$2x_1 - x_2 + 3x_3 = 5$$\n",
    "$$2x_1 + 2x_2 + 3x_3 = 7$$\n",
    "$$-3x_1 + 3x_2 - 1x_3 = -3$$"
   ]
  },
  {
   "cell_type": "markdown",
   "metadata": {},
   "source": [
    "#### Problem 2:\n",
    "For the linear system given below,determine the solution using Jacobi iteration.\n",
    "<br><br>$$-x_1 + 2x_2 - 6x_3 = -28$$\n",
    "$$7x_1 -3x_2 -x_3 = -44$$\n",
    "$$-2x_1 -8x_2 + x_3 = -30$$\n",
    "<br><br>$$\\begin{bmatrix}\n",
    "    -1&   2&  6 \\\\\n",
    "    7& -3& -1 \\\\\n",
    "    -2& -8& 1\n",
    "    \\end{bmatrix} \\begin{bmatrix}\n",
    "    x_1 \\\\ x_2 \\\\ x_3\n",
    "    \\end{bmatrix} = \\begin{bmatrix}\n",
    "    -28 \\\\ -44 \\\\ -30 \\end{bmatrix}$$"
   ]
  },
  {
   "cell_type": "code",
   "execution_count": 1,
   "metadata": {},
   "outputs": [
    {
     "name": "stdout",
     "output_type": "stream",
     "text": [
      "Iterations      Residual                            x1                                 \n"
     ]
    }
   ],
   "source": [
    "import numpy as np\n",
    "\n",
    "def jacobi_iteration(A, b, xi, n, tolerance):\n",
    "    \n",
    "    R = np.zeros((n, 1))\n",
    "    x_old = xi\n",
    "    x_new = x_old\n",
    "    residual = 10\n",
    "    iteration = 1\n",
    "    \n",
    "    print('%-15s %-35s %-35s' %('Iterations', 'Residual', 'x1'))\n",
    "    #while residual > tolerance:\n",
    "        #for i in range(0, n):\n",
    "            #sum = 0\n",
    "            #for j in range(0, n):\n",
    "                #sum = sum + A[i][j]*x_old[j]\n",
    "            #R[i] = (1/A[i][i])*(b[i] - sum)\n",
    "            #x_new[i] = x_old[i] + R[i]\n",
    "        #residual = np.linalg.norm(R)\n",
    "        #print('%-15s %-35s %-35s' %(iteration, residual, x_new[0]))\n",
    "        #iteration = iteration + 1\n",
    "        #x_old = x_new\n",
    "    \n",
    "A = np.array([[-1,  2,  6],\n",
    "              [ 7, -3, -1],\n",
    "              [-2, -8,  1]])\n",
    "\n",
    "b = np.array([[-28],\n",
    "              [-44],\n",
    "              [-30]])\n",
    "\n",
    "xi = np.array([[0],\n",
    "               [0],\n",
    "               [0]])\n",
    "\n",
    "a = jacobi_iteration(A, b, xi, 3, 10**-5)"
   ]
  },
  {
   "cell_type": "markdown",
   "metadata": {},
   "source": [
    "#### Problem 3:\n",
    "For the linear system given below,determine the solution using Gauss-Seidel.\n",
    "<br><br>$$x + 2y + 3z = 6$$\n",
    "$$2x - 3y + z = 10$$\n",
    "$$3x - y - z = 2$$"
   ]
  },
  {
   "cell_type": "code",
   "execution_count": null,
   "metadata": {},
   "outputs": [],
   "source": []
  }
 ],
 "metadata": {
  "kernelspec": {
   "display_name": "Python 3",
   "language": "python",
   "name": "python3"
  },
  "language_info": {
   "codemirror_mode": {
    "name": "ipython",
    "version": 3
   },
   "file_extension": ".py",
   "mimetype": "text/x-python",
   "name": "python",
   "nbconvert_exporter": "python",
   "pygments_lexer": "ipython3",
   "version": "3.7.3"
  }
 },
 "nbformat": 4,
 "nbformat_minor": 2
}
