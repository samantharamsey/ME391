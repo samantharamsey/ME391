{
 "cells": [
  {
   "cell_type": "code",
   "execution_count": 28,
   "metadata": {},
   "outputs": [],
   "source": [
    "# Samantha Ramsey\n",
    "# AE 422 Project 2\n",
    "# 11/10/2021\n",
    "\n",
    "import numpy as np\n",
    "import matplotlib.pyplot as plt\n",
    "\n",
    "def Croot(AR, b, lam):\n",
    "    '''\n",
    "    root chord\n",
    "    '''\n",
    "    Cr = (2*b)/((1 + lam)*AR)\n",
    "    return Cr\n",
    "\n",
    "def Ctrail(Cr, lam):\n",
    "    '''\n",
    "    tip chord\n",
    "    '''\n",
    "    Ct = Cr*lam\n",
    "    return Ct\n",
    "\n",
    "def PA(Cr, Ct, b):\n",
    "    '''\n",
    "    planform area\n",
    "    '''\n",
    "    S = (1/2)*(Cr + Ct)*b\n",
    "    return S\n",
    "\n",
    "def chord(Cr, Ct, phi):\n",
    "    '''\n",
    "    chord\n",
    "    '''\n",
    "    C = Cr + (Ct - Cr)*abs(phi)\n",
    "    return C\n",
    "\n",
    "def stuff(AR, b, lam, a0):\n",
    "    Cr      = Croot(AR, b, lam)\n",
    "    Ct      = Ctrail(Cr, lam)\n",
    "    C       = chord(Cr, Ct, cosphi)\n",
    "    mu      = (C*a0)/(4*b)\n",
    "    \n",
    "    # solve for coefficients\n",
    "    A1      = sinphi* (mu   + sinphi)\n",
    "    A3      = sin3phi*(3*mu + sinphi)\n",
    "    A5      = sin5phi*(5*mu + sinphi)\n",
    "    A7      = sin7phi*(7*mu + sinphi)\n",
    "    \n",
    "    B       = np.array(mu*alpha*sinphi)\n",
    "    A       = np.array([A1, A3, A5, A7]).T\n",
    "    sol     = np.linalg.solve(A, B)\n",
    "    \n",
    "    # lift coefficient\n",
    "    Cl      = sol[0]*np.pi*AR\n",
    "    \n",
    "    # induced drag coefficient\n",
    "    Cind    = (Cl**2/(np.pi*AR)*(1 + (3*sol[1]**2/sol[0]**2) + \n",
    "                                     (5*sol[2]**2/sol[0]**2) + \n",
    "                                     (7*sol[3]**2/sol[0]**2)))\n",
    "    \n",
    "    # spanwise lift distribution\n",
    "    deg     = np.linspace(0, 90*(np.pi/180), 100)\n",
    "    Cphi    = Cr*(1 + ((lam - 1)*np.cos(deg)))\n",
    "    Cphi0   = Cr*(1 + ((lam - 1)*np.cos(phi)))\n",
    "    \n",
    "    i1      = np.sin(1*deg)\n",
    "    i3      = np.sin(3*deg)\n",
    "    i5      = np.sin(5*deg)\n",
    "    i7      = np.sin(7*deg)\n",
    "    \n",
    "    Clphi   =  2*AR*(1 + lam)*(Cr/Cphi )*(sol[0]*i1 + sol[1]*i3 + \n",
    "                                           sol[2]*i5 + sol[3]*i7)\n",
    "    Clphi0  = (2*AR*(1 + lam)*(Cr/Cphi0)*(sol[0]* sinphi + sol[1]*sin3phi +\n",
    "                                           sol[2]*sin5phi + sol[3]*sin7phi))\n",
    "    \n",
    "    return mu, sol, Cl, Cind, Cphi, Cphi0, Clphi, Clphi0\n",
    "\n",
    "def plot(ydata, title):\n",
    "    deg     = np.linspace(0, 90*(np.pi/180), 100)\n",
    "    f1      = plt.figure()\n",
    "    ax1     = f1.add_subplot()\n",
    "    ax1.plot(np.cos(deg), ydata)\n",
    "    ax1.set_title(title)\n",
    "    ax1.grid()\n",
    "    ax1.set_ylabel('Cl/CL')\n",
    "    ax1.set_xlabel('-y/s')\n",
    "\n",
    "def printdata(phi, mu, sol, Cl, Cind, Clrat0):\n",
    "    phi = phi*(180/np.pi)\n",
    "    print('%-10s %-10s %-10s %-10s %-10s %-10s' \n",
    "              %('phi', 'mu', 'A coeff', 'CL', 'C induced', 'Cl/CL'))\n",
    "    for i in range(4):\n",
    "        print('%-10s %-10s %-10s %-10s %-10s %-10s' \n",
    "                  %(round(phi[i], 6), round(mu[i], 6), round(sol[i], 6), \n",
    "                    round(Cl,     6), round(Cind,  6), round(Clrat0[i], 6)))\n",
    "\n",
    "if __name__ == '__main__':\n",
    "    \n",
    "    AR      = 7.0            # aspect ratio\n",
    "    alpha   = 6*(np.pi/180)  # angle of attack\n",
    "    b       = 1              # wing span\n",
    "    lam1    = 0.4            # taper ratio 1\n",
    "    lam2    = 1.0            # taper ratio 2\n",
    "    a0      = 2*np.pi\n",
    "    \n",
    "    # data in Example 7.2\n",
    "    phi     = np.array([22.5, 45.0, 67.5, 90.0])*(np.pi/180)\n",
    "    cosphi  = np.cos(phi)\n",
    "    sinphi  = np.sin(phi)\n",
    "    sin3phi = np.sin(3*phi)\n",
    "    sin5phi = np.sin(5*phi)\n",
    "    sin7phi = np.sin(7*phi)\n",
    "       \n",
    "    mu1, sol1, Cl1, Cind1, Cphi1, Cphi01, Clphi1, Clphi01 = stuff(AR, b, lam1, a0)\n",
    "    mu2, sol2, Cl2, Cind2, Cphi2, Cphi02, Clphi2, Clphi02 = stuff(AR, b, lam2, a0)\n",
    "    \n",
    "    Clrat1  = Clphi1/Cl1\n",
    "    Clrat01 = Clphi01/Cl1\n",
    "    \n",
    "    Clrat2  = Clphi2/Cl2\n",
    "    Clrat02 = Clphi02/Cl2\n",
    "    "
   ]
  },
  {
   "cell_type": "markdown",
   "metadata": {},
   "source": [
    "<br>\n",
    "\n",
    "## Lambda = 0.4 Results"
   ]
  },
  {
   "cell_type": "code",
   "execution_count": 13,
   "metadata": {},
   "outputs": [
    {
     "name": "stdout",
     "output_type": "stream",
     "text": [
      "phi        mu         A coeff    CL         C induced  Cl/CL     \n",
      "22.5       0.142869   0.023201   0.510218   0.01196    0.851287  \n",
      "45.0       0.184564   8.5e-05    0.510218   0.01196    1.054914  \n",
      "67.5       0.246964   0.001044   0.510218   0.01196    1.041905  \n",
      "90.0       0.320571   -0.000117  0.510218   0.01196    0.932622  \n"
     ]
    },
    {
     "data": {
      "image/png": "[encoded data removed]",
      "text/plain": [
       "<Figure size 432x288 with 1 Axes>"
      ]
     },
     "metadata": {
      "needs_background": "light"
     },
     "output_type": "display_data"
    }
   ],
   "source": [
    "plot(Clrat1, 'Lambda = 0.4')\n",
    "printdata(phi, mu1, sol1, Cl1, Cind1, Clrat01)"
   ]
  },
  {
   "cell_type": "markdown",
   "metadata": {},
   "source": [
    "## Lambda = 1.0 Results"
   ]
  },
  {
   "cell_type": "code",
   "execution_count": 14,
   "metadata": {},
   "outputs": [
    {
     "name": "stdout",
     "output_type": "stream",
     "text": [
      "phi        mu         A coeff    CL         C induced  Cl/CL     \n",
      "22.5       0.224399   0.022365   0.491827   0.01161    0.676155  \n",
      "45.0       0.224399   0.00293    0.491827   0.01161    0.98904   \n",
      "67.5       0.224399   0.000615   0.491827   0.01161    1.104935  \n",
      "90.0       0.224399   0.000111   0.491827   0.01161    1.135084  \n"
     ]
    },
    {
     "data": {
      "image/png": "[encoded data removed]",
      "text/plain": [
       "<Figure size 432x288 with 1 Axes>"
      ]
     },
     "metadata": {
      "needs_background": "light"
     },
     "output_type": "display_data"
    }
   ],
   "source": [
    "plot(Clrat2, 'Lambda = 1.0')\n",
    "printdata(phi, mu2, sol2, Cl2, Cind2, Clrat02)"
   ]
  }
 ],
 "metadata": {
  "kernelspec": {
   "display_name": "Python 3",
   "language": "python",
   "name": "python3"
  },
  "language_info": {
   "codemirror_mode": {
    "name": "ipython",
    "version": 3
   },
   "file_extension": ".py",
   "mimetype": "text/x-python",
   "name": "python",
   "nbconvert_exporter": "python",
   "pygments_lexer": "ipython3",
   "version": "3.8.5"
  }
 },
 "nbformat": 4,
 "nbformat_minor": 4
}
